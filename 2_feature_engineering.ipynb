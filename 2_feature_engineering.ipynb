{
 "cells": [
  {
   "cell_type": "code",
   "execution_count": null,
   "metadata": {},
   "outputs": [],
   "source": [
    "import os\n",
    "import cv2\n",
    "import matplotlib.pyplot as plt\n",
    "import numpy as np\n",
    "import pandas as pd\n",
    "from datetime import datetime"
   ]
  },
  {
   "cell_type": "code",
   "execution_count": null,
   "metadata": {},
   "outputs": [],
   "source": [
    "from helpers import DataExplorator\n",
    "\n",
    "data_explorator = DataExplorator()"
   ]
  },
  {
   "cell_type": "markdown",
   "metadata": {},
   "source": [
    "# dataset\n",
    "\n",
    "the dataset provides training and validation images separately"
   ]
  },
  {
   "cell_type": "code",
   "execution_count": null,
   "metadata": {},
   "outputs": [],
   "source": [
    "data_train = data_explorator.get_train_images()\n",
    "data_train"
   ]
  },
  {
   "cell_type": "code",
   "execution_count": null,
   "metadata": {},
   "outputs": [],
   "source": [
    "data_valid = data_explorator.get_valid_images()\n",
    "data_valid"
   ]
  },
  {
   "cell_type": "code",
   "execution_count": 38,
   "metadata": {},
   "outputs": [],
   "source": [
    "def histogram(img):\n",
    "    #initializing\n",
    "    WB = np.zeros(256)\n",
    "    WG = np.zeros(256)\n",
    "    WR = np.zeros(256)\n",
    "    \n",
    "    l, c, z = img.shape\n",
    "    \n",
    "    B = img[:,:,0]\n",
    "    G = img[:,:,1]\n",
    "    R = img[:,:,2]\n",
    "    \n",
    "    #count pixels by channel\n",
    "    for i in range(l):\n",
    "        for j in range(c):\n",
    "            WB[B[i,j]] = WB[B[i,j]]+1\n",
    "            WG[G[i,j]] = WG[G[i,j]]+1\n",
    "            WR[R[i,j]] = WR[R[i,j]]+1\n",
    "    \n",
    "    #normalizing\n",
    "    for i in range(256):\n",
    "        WB[i] = WB[i]/(l*c)\n",
    "        WG[i] = WG[i]/(l*c)\n",
    "        WR[i] = WR[i]/(l*c)\n",
    "\n",
    "    return [WB,WG,WR]"
   ]
  },
  {
   "cell_type": "code",
   "execution_count": 39,
   "metadata": {},
   "outputs": [],
   "source": [
    "def extract_features(img):\n",
    "    features = []\n",
    "    hist = histogram(img)\n",
    "\n",
    "    soma_B = 0\n",
    "    soma_G = 0\n",
    "    soma_R = 0\n",
    "\n",
    "    for i in range(256):\n",
    "        if((i+1)%64 == 0):\n",
    "            features.append(soma_B)\n",
    "            features.append(soma_G)\n",
    "            features.append(soma_R)\n",
    "            soma_B = 0\n",
    "            soma_G = 0\n",
    "            soma_R = 0\n",
    "        else:\n",
    "            soma_B+=hist[0][i]\n",
    "            soma_G+=hist[1][i]\n",
    "            soma_R+=hist[2][i]\n",
    "    \n",
    "    return features"
   ]
  },
  {
   "cell_type": "code",
   "execution_count": null,
   "metadata": {},
   "outputs": [],
   "source": [
    "classes_codes = {\"healthy\": 0, \"black_measles\": 1, \"leaf_blight\": 2, \"black_rot\": 3}"
   ]
  },
  {
   "cell_type": "code",
   "execution_count": null,
   "metadata": {},
   "outputs": [],
   "source": [
    "def get_features(img_path, img_class):\n",
    "    image = cv2.imread(img_path)\n",
    "    features = extract_features(image)\n",
    "    \n",
    "    features_dict = dict(zip([\"feature_\"+str(i+1) for i in range(len(features))], features))\n",
    "    features_dict[\"class\"] = classes_codes[img_class]\n",
    "    return features_dict"
   ]
  },
  {
   "cell_type": "code",
   "execution_count": null,
   "metadata": {},
   "outputs": [],
   "source": [
    "data_train_size = data_train.shape[0]"
   ]
  },
  {
   "cell_type": "code",
   "execution_count": null,
   "metadata": {},
   "outputs": [],
   "source": [
    "%time data_train_features = [get_features(img, img_class) for img, img_class in zip(data_train['image'][:10], data_train['class'][:10])]"
   ]
  },
  {
   "cell_type": "code",
   "execution_count": null,
   "metadata": {},
   "outputs": [],
   "source": [
    "data_train_df = pd.DataFrame(data_train_features)\n",
    "train_data_df"
   ]
  },
  {
   "cell_type": "code",
   "execution_count": null,
   "metadata": {},
   "outputs": [],
   "source": [
    "now_formated = datetime.now().strftime(\"%Y_%m_%d_%H_%M\")\n",
    "train_filename = \"train_{}.csv\".format(now_formated)\n",
    "data_train_df.to_csv(train_filename, index=False)"
   ]
  }
 ],
 "metadata": {
  "kernelspec": {
   "display_name": "Python 3",
   "language": "python",
   "name": "python3"
  },
  "language_info": {
   "codemirror_mode": {
    "name": "ipython",
    "version": 3
   },
   "file_extension": ".py",
   "mimetype": "text/x-python",
   "name": "python",
   "nbconvert_exporter": "python",
   "pygments_lexer": "ipython3",
   "version": "3.7.3"
  }
 },
 "nbformat": 4,
 "nbformat_minor": 2
}
